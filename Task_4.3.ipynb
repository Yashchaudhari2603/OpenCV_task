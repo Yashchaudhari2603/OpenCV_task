{
 "cells": [
  {
   "cell_type": "code",
   "execution_count": 1,
   "metadata": {},
   "outputs": [],
   "source": [
    "import cv2\n",
    "import numpy as np"
   ]
  },
  {
   "cell_type": "code",
   "execution_count": 2,
   "metadata": {},
   "outputs": [],
   "source": [
    "#read batman image\n",
    "img_1 = cv2.imread(\"batman.jpg\")\n",
    "\n",
    "# Use numpy hstack function to combine\n",
    "combine_hor = np.hstack( (img_1,img_1))\n",
    "\n",
    "# Show combined image\n",
    "cv2.imshow(\"combinedh\", combine_hor)\n",
    "cv2.waitKey()\n",
    "cv2.destroyAllWindows()"
   ]
  },
  {
   "cell_type": "code",
   "execution_count": 3,
   "metadata": {},
   "outputs": [],
   "source": [
    "#read batman image\n",
    "img_1 = cv2.imread(\"batman.jpg\")\n",
    "\n",
    "# Use numpy hstack function to combine\n",
    "combine_ver = np.vstack( (img_1,img_1))\n",
    "\n",
    "# Show combined image\n",
    "cv2.imshow(\"combinedv\", combine_ver)\n",
    "cv2.waitKey()\n",
    "cv2.destroyAllWindows()"
   ]
  },
  {
   "cell_type": "code",
   "execution_count": null,
   "metadata": {},
   "outputs": [],
   "source": []
  }
 ],
 "metadata": {
  "kernelspec": {
   "display_name": "Python 3",
   "language": "python",
   "name": "python3"
  },
  "language_info": {
   "codemirror_mode": {
    "name": "ipython",
    "version": 3
   },
   "file_extension": ".py",
   "mimetype": "text/x-python",
   "name": "python",
   "nbconvert_exporter": "python",
   "pygments_lexer": "ipython3",
   "version": "3.8.3"
  }
 },
 "nbformat": 4,
 "nbformat_minor": 4
}
